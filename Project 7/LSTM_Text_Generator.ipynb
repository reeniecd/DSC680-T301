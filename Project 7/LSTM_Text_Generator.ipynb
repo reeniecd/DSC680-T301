{
 "cells": [
  {
   "cell_type": "markdown",
   "metadata": {
    "colab_type": "text",
    "id": "view-in-github"
   },
   "source": [
    "<a href=\"https://colab.research.google.com/github/reeniecd/DSC510-T301/blob/master/Assignement_11.ipynb\" target=\"_parent\"><img src=\"https://colab.research.google.com/assets/colab-badge.svg\" alt=\"Open In Colab\"/></a>"
   ]
  },
  {
   "cell_type": "markdown",
   "metadata": {},
   "source": [
    "### LSTM Text Generator"
   ]
  },
  {
   "cell_type": "code",
   "execution_count": 3,
   "metadata": {
    "id": "lotG6wqwORQm"
   },
   "outputs": [],
   "source": [
    "import tensorflow as tf\n",
    "from tensorflow.keras.preprocessing.text import Tokenizer\n",
    "from tensorflow.keras.layers import Embedding, LSTM, Dense\n",
    "from tensorflow.keras.models import Sequential\n",
    "from tensorflow.keras.utils import to_categorical\n",
    "from tensorflow.keras.optimizers import Adam\n",
    "import pickle\n",
    "import numpy as np\n",
    "import os"
   ]
  },
  {
   "cell_type": "markdown",
   "metadata": {},
   "source": [
    "## Source Data"
   ]
  },
  {
   "cell_type": "code",
   "execution_count": 4,
   "metadata": {
    "colab": {
     "base_uri": "https://localhost:8080/",
     "height": 73
    },
    "id": "A05GgyJWYAp2",
    "outputId": "5cd8afda-33b0-4c69-bbbd-82dfa6f246fd"
   },
   "outputs": [
    {
     "data": {
      "text/html": [
       "\n",
       "     <input type=\"file\" id=\"files-041d31ab-9f30-41a0-8c28-eb83d002714c\" name=\"files[]\" multiple disabled\n",
       "        style=\"border:none\" />\n",
       "     <output id=\"result-041d31ab-9f30-41a0-8c28-eb83d002714c\">\n",
       "      Upload widget is only available when the cell has been executed in the\n",
       "      current browser session. Please rerun this cell to enable.\n",
       "      </output>\n",
       "      <script>// Copyright 2017 Google LLC\n",
       "//\n",
       "// Licensed under the Apache License, Version 2.0 (the \"License\");\n",
       "// you may not use this file except in compliance with the License.\n",
       "// You may obtain a copy of the License at\n",
       "//\n",
       "//      http://www.apache.org/licenses/LICENSE-2.0\n",
       "//\n",
       "// Unless required by applicable law or agreed to in writing, software\n",
       "// distributed under the License is distributed on an \"AS IS\" BASIS,\n",
       "// WITHOUT WARRANTIES OR CONDITIONS OF ANY KIND, either express or implied.\n",
       "// See the License for the specific language governing permissions and\n",
       "// limitations under the License.\n",
       "\n",
       "/**\n",
       " * @fileoverview Helpers for google.colab Python module.\n",
       " */\n",
       "(function(scope) {\n",
       "function span(text, styleAttributes = {}) {\n",
       "  const element = document.createElement('span');\n",
       "  element.textContent = text;\n",
       "  for (const key of Object.keys(styleAttributes)) {\n",
       "    element.style[key] = styleAttributes[key];\n",
       "  }\n",
       "  return element;\n",
       "}\n",
       "\n",
       "// Max number of bytes which will be uploaded at a time.\n",
       "const MAX_PAYLOAD_SIZE = 100 * 1024;\n",
       "\n",
       "function _uploadFiles(inputId, outputId) {\n",
       "  const steps = uploadFilesStep(inputId, outputId);\n",
       "  const outputElement = document.getElementById(outputId);\n",
       "  // Cache steps on the outputElement to make it available for the next call\n",
       "  // to uploadFilesContinue from Python.\n",
       "  outputElement.steps = steps;\n",
       "\n",
       "  return _uploadFilesContinue(outputId);\n",
       "}\n",
       "\n",
       "// This is roughly an async generator (not supported in the browser yet),\n",
       "// where there are multiple asynchronous steps and the Python side is going\n",
       "// to poll for completion of each step.\n",
       "// This uses a Promise to block the python side on completion of each step,\n",
       "// then passes the result of the previous step as the input to the next step.\n",
       "function _uploadFilesContinue(outputId) {\n",
       "  const outputElement = document.getElementById(outputId);\n",
       "  const steps = outputElement.steps;\n",
       "\n",
       "  const next = steps.next(outputElement.lastPromiseValue);\n",
       "  return Promise.resolve(next.value.promise).then((value) => {\n",
       "    // Cache the last promise value to make it available to the next\n",
       "    // step of the generator.\n",
       "    outputElement.lastPromiseValue = value;\n",
       "    return next.value.response;\n",
       "  });\n",
       "}\n",
       "\n",
       "/**\n",
       " * Generator function which is called between each async step of the upload\n",
       " * process.\n",
       " * @param {string} inputId Element ID of the input file picker element.\n",
       " * @param {string} outputId Element ID of the output display.\n",
       " * @return {!Iterable<!Object>} Iterable of next steps.\n",
       " */\n",
       "function* uploadFilesStep(inputId, outputId) {\n",
       "  const inputElement = document.getElementById(inputId);\n",
       "  inputElement.disabled = false;\n",
       "\n",
       "  const outputElement = document.getElementById(outputId);\n",
       "  outputElement.innerHTML = '';\n",
       "\n",
       "  const pickedPromise = new Promise((resolve) => {\n",
       "    inputElement.addEventListener('change', (e) => {\n",
       "      resolve(e.target.files);\n",
       "    });\n",
       "  });\n",
       "\n",
       "  const cancel = document.createElement('button');\n",
       "  inputElement.parentElement.appendChild(cancel);\n",
       "  cancel.textContent = 'Cancel upload';\n",
       "  const cancelPromise = new Promise((resolve) => {\n",
       "    cancel.onclick = () => {\n",
       "      resolve(null);\n",
       "    };\n",
       "  });\n",
       "\n",
       "  // Wait for the user to pick the files.\n",
       "  const files = yield {\n",
       "    promise: Promise.race([pickedPromise, cancelPromise]),\n",
       "    response: {\n",
       "      action: 'starting',\n",
       "    }\n",
       "  };\n",
       "\n",
       "  cancel.remove();\n",
       "\n",
       "  // Disable the input element since further picks are not allowed.\n",
       "  inputElement.disabled = true;\n",
       "\n",
       "  if (!files) {\n",
       "    return {\n",
       "      response: {\n",
       "        action: 'complete',\n",
       "      }\n",
       "    };\n",
       "  }\n",
       "\n",
       "  for (const file of files) {\n",
       "    const li = document.createElement('li');\n",
       "    li.append(span(file.name, {fontWeight: 'bold'}));\n",
       "    li.append(span(\n",
       "        `(${file.type || 'n/a'}) - ${file.size} bytes, ` +\n",
       "        `last modified: ${\n",
       "            file.lastModifiedDate ? file.lastModifiedDate.toLocaleDateString() :\n",
       "                                    'n/a'} - `));\n",
       "    const percent = span('0% done');\n",
       "    li.appendChild(percent);\n",
       "\n",
       "    outputElement.appendChild(li);\n",
       "\n",
       "    const fileDataPromise = new Promise((resolve) => {\n",
       "      const reader = new FileReader();\n",
       "      reader.onload = (e) => {\n",
       "        resolve(e.target.result);\n",
       "      };\n",
       "      reader.readAsArrayBuffer(file);\n",
       "    });\n",
       "    // Wait for the data to be ready.\n",
       "    let fileData = yield {\n",
       "      promise: fileDataPromise,\n",
       "      response: {\n",
       "        action: 'continue',\n",
       "      }\n",
       "    };\n",
       "\n",
       "    // Use a chunked sending to avoid message size limits. See b/62115660.\n",
       "    let position = 0;\n",
       "    do {\n",
       "      const length = Math.min(fileData.byteLength - position, MAX_PAYLOAD_SIZE);\n",
       "      const chunk = new Uint8Array(fileData, position, length);\n",
       "      position += length;\n",
       "\n",
       "      const base64 = btoa(String.fromCharCode.apply(null, chunk));\n",
       "      yield {\n",
       "        response: {\n",
       "          action: 'append',\n",
       "          file: file.name,\n",
       "          data: base64,\n",
       "        },\n",
       "      };\n",
       "\n",
       "      let percentDone = fileData.byteLength === 0 ?\n",
       "          100 :\n",
       "          Math.round((position / fileData.byteLength) * 100);\n",
       "      percent.textContent = `${percentDone}% done`;\n",
       "\n",
       "    } while (position < fileData.byteLength);\n",
       "  }\n",
       "\n",
       "  // All done.\n",
       "  yield {\n",
       "    response: {\n",
       "      action: 'complete',\n",
       "    }\n",
       "  };\n",
       "}\n",
       "\n",
       "scope.google = scope.google || {};\n",
       "scope.google.colab = scope.google.colab || {};\n",
       "scope.google.colab._files = {\n",
       "  _uploadFiles,\n",
       "  _uploadFilesContinue,\n",
       "};\n",
       "})(self);\n",
       "</script> "
      ],
      "text/plain": [
       "<IPython.core.display.HTML object>"
      ]
     },
     "metadata": {},
     "output_type": "display_data"
    },
    {
     "name": "stdout",
     "output_type": "stream",
     "text": [
      "Saving Aab.txt to Aab.txt\n"
     ]
    }
   ],
   "source": [
    "## Download from https://www.gutenberg.org/ebooks/66447 and save to local \n",
    "\n",
    "from google.colab import files\n",
    "uploaded = files.upload()"
   ]
  },
  {
   "cell_type": "code",
   "execution_count": 5,
   "metadata": {
    "colab": {
     "base_uri": "https://localhost:8080/",
     "height": 70
    },
    "id": "O40VecwAZ6fm",
    "outputId": "75f0c9f9-7c15-4f32-80a3-b6afd3d86ead"
   },
   "outputs": [
    {
     "data": {
      "application/vnd.google.colaboratory.intrinsic+json": {
       "type": "string"
      },
      "text/plain": [
       "'The Project Gutenberg eBook of The Aab, by Edward W. Ludwig This eBook is for the use of anyone anywhere in the United States and most other parts of the world at no cost and with almost no restrictions whatsoever. You may copy it, give it away or re-use it under the terms of the Project Gutenberg License included with this eBook or online at www.gutenberg.org. If you are not located in the United States, you will have to check the laws of the country where you are located before using this eBoo'"
      ]
     },
     "execution_count": 5,
     "metadata": {},
     "output_type": "execute_result"
    }
   ],
   "source": [
    "file = open(\"Aab.txt\", \"r\", encoding = \"utf8\")\n",
    "\n",
    "# store file in list\n",
    "lines = []\n",
    "for i in file:\n",
    "    lines.append(i)\n",
    "\n",
    "# Convert list to string\n",
    "data = \"\"\n",
    "for i in lines:\n",
    "  data = ' '. join(lines) \n",
    "\n",
    "#replace unnecessary stuff with space\n",
    "data = data.replace('\\n', '').replace('\\r', '').replace('\\ufeff', '').replace('“','').replace('”','')  #new line, carriage return, unicode character --> replace by space\n",
    "\n",
    "#remove unnecessary spaces \n",
    "data = data.split()\n",
    "data = ' '.join(data)\n",
    "data[:500]"
   ]
  },
  {
   "cell_type": "code",
   "execution_count": 6,
   "metadata": {
    "colab": {
     "base_uri": "https://localhost:8080/"
    },
    "id": "jLgtgz2jahw8",
    "outputId": "a21ada3c-b83e-421e-8cb7-b6d36dc563aa"
   },
   "outputs": [
    {
     "data": {
      "text/plain": [
       "33740"
      ]
     },
     "execution_count": 6,
     "metadata": {},
     "output_type": "execute_result"
    }
   ],
   "source": [
    "len(data)"
   ]
  },
  {
   "cell_type": "code",
   "execution_count": 7,
   "metadata": {
    "colab": {
     "base_uri": "https://localhost:8080/"
    },
    "id": "l-Og-T0zakES",
    "outputId": "caf8de60-b1ad-4ee2-ff67-527e03435ce7"
   },
   "outputs": [
    {
     "data": {
      "text/plain": [
       "[1, 9, 7, 66, 2, 1, 24, 23, 272, 273, 274, 16, 66, 35, 20]"
      ]
     },
     "execution_count": 7,
     "metadata": {},
     "output_type": "execute_result"
    }
   ],
   "source": [
    "tokenizer = Tokenizer()\n",
    "tokenizer.fit_on_texts([data])\n",
    "\n",
    "# saving the tokenizer for predict function\n",
    "pickle.dump(tokenizer, open('token.pkl', 'wb'))\n",
    "\n",
    "sequence_data = tokenizer.texts_to_sequences([data])[0]\n",
    "sequence_data[:15]"
   ]
  },
  {
   "cell_type": "code",
   "execution_count": 8,
   "metadata": {
    "colab": {
     "base_uri": "https://localhost:8080/"
    },
    "id": "oWIkgBgpan1u",
    "outputId": "538a2c75-1ac0-4845-80d5-c1ed8aadcf3a"
   },
   "outputs": [
    {
     "data": {
      "text/plain": [
       "5831"
      ]
     },
     "execution_count": 8,
     "metadata": {},
     "output_type": "execute_result"
    }
   ],
   "source": [
    "len(sequence_data)"
   ]
  },
  {
   "cell_type": "code",
   "execution_count": 9,
   "metadata": {
    "colab": {
     "base_uri": "https://localhost:8080/"
    },
    "id": "oEcqpPhBap3m",
    "outputId": "6c15faf8-a82f-470f-8e4a-987914d2d1c8"
   },
   "outputs": [
    {
     "name": "stdout",
     "output_type": "stream",
     "text": [
      "1484\n"
     ]
    }
   ],
   "source": [
    "vocab_size = len(tokenizer.word_index) + 1\n",
    "print(vocab_size)"
   ]
  },
  {
   "cell_type": "code",
   "execution_count": 10,
   "metadata": {
    "colab": {
     "base_uri": "https://localhost:8080/"
    },
    "id": "niGvhOoaatD5",
    "outputId": "e8b94f60-495b-439d-f647-a26b984c0c1e"
   },
   "outputs": [
    {
     "name": "stdout",
     "output_type": "stream",
     "text": [
      "The Length of sequences are:  5828\n"
     ]
    },
    {
     "data": {
      "text/plain": [
       "array([[  1,   9,   7,  66],\n",
       "       [  9,   7,  66,   2],\n",
       "       [  7,  66,   2,   1],\n",
       "       [ 66,   2,   1,  24],\n",
       "       [  2,   1,  24,  23],\n",
       "       [  1,  24,  23, 272],\n",
       "       [ 24,  23, 272, 273],\n",
       "       [ 23, 272, 273, 274],\n",
       "       [272, 273, 274,  16],\n",
       "       [273, 274,  16,  66]])"
      ]
     },
     "execution_count": 10,
     "metadata": {},
     "output_type": "execute_result"
    }
   ],
   "source": [
    "sequences = []\n",
    "\n",
    "for i in range(3, len(sequence_data)):\n",
    "    words = sequence_data[i-3:i+1]\n",
    "    sequences.append(words)\n",
    "    \n",
    "print(\"The Length of sequences are: \", len(sequences))\n",
    "sequences = np.array(sequences)\n",
    "sequences[:10]"
   ]
  },
  {
   "cell_type": "code",
   "execution_count": 11,
   "metadata": {
    "id": "PfBCcjawaw7c"
   },
   "outputs": [],
   "source": [
    "X = []\n",
    "y = []\n",
    "\n",
    "for i in sequences:\n",
    "    X.append(i[0:3])\n",
    "    y.append(i[3])\n",
    "    \n",
    "X = np.array(X)\n",
    "y = np.array(y)"
   ]
  },
  {
   "cell_type": "code",
   "execution_count": 12,
   "metadata": {
    "colab": {
     "base_uri": "https://localhost:8080/"
    },
    "id": "xgltszDEazIQ",
    "outputId": "c8fa9191-723b-4609-d48c-40bf09073c7c"
   },
   "outputs": [
    {
     "name": "stdout",
     "output_type": "stream",
     "text": [
      "Data:  [[  1   9   7]\n",
      " [  9   7  66]\n",
      " [  7  66   2]\n",
      " [ 66   2   1]\n",
      " [  2   1  24]\n",
      " [  1  24  23]\n",
      " [ 24  23 272]\n",
      " [ 23 272 273]\n",
      " [272 273 274]\n",
      " [273 274  16]]\n",
      "Response:  [ 66   2   1  24  23 272 273 274  16  66]\n"
     ]
    }
   ],
   "source": [
    "print(\"Data: \", X[:10])\n",
    "print(\"Response: \", y[:10])"
   ]
  },
  {
   "cell_type": "code",
   "execution_count": 13,
   "metadata": {
    "colab": {
     "base_uri": "https://localhost:8080/"
    },
    "id": "kaEBUn4sa1Rr",
    "outputId": "3f648abf-af6d-43ae-9c27-82e251165846"
   },
   "outputs": [
    {
     "data": {
      "text/plain": [
       "array([[0., 0., 0., ..., 0., 0., 0.],\n",
       "       [0., 0., 1., ..., 0., 0., 0.],\n",
       "       [0., 1., 0., ..., 0., 0., 0.],\n",
       "       [0., 0., 0., ..., 0., 0., 0.],\n",
       "       [0., 0., 0., ..., 0., 0., 0.]], dtype=float32)"
      ]
     },
     "execution_count": 13,
     "metadata": {},
     "output_type": "execute_result"
    }
   ],
   "source": [
    "y = to_categorical(y, num_classes=vocab_size)\n",
    "y[:5]"
   ]
  },
  {
   "cell_type": "markdown",
   "metadata": {
    "id": "DFTJJxvca5IE"
   },
   "source": [
    "### Creating the model"
   ]
  },
  {
   "cell_type": "code",
   "execution_count": 14,
   "metadata": {
    "id": "XxjrmB6na1rQ"
   },
   "outputs": [],
   "source": [
    "model = Sequential()\n",
    "model.add(Embedding(vocab_size, 10, input_length=3))\n",
    "model.add(LSTM(1000, return_sequences=True))\n",
    "model.add(LSTM(1000))\n",
    "model.add(Dense(1000, activation=\"relu\"))\n",
    "model.add(Dense(vocab_size, activation=\"softmax\"))"
   ]
  },
  {
   "cell_type": "code",
   "execution_count": 15,
   "metadata": {
    "colab": {
     "base_uri": "https://localhost:8080/"
    },
    "id": "9S34fhKva-7O",
    "outputId": "4ebc76ac-49e8-4d1b-ee3b-46d1a7eeddb9"
   },
   "outputs": [
    {
     "name": "stdout",
     "output_type": "stream",
     "text": [
      "Model: \"sequential\"\n",
      "_________________________________________________________________\n",
      " Layer (type)                Output Shape              Param #   \n",
      "=================================================================\n",
      " embedding (Embedding)       (None, 3, 10)             14840     \n",
      "                                                                 \n",
      " lstm (LSTM)                 (None, 3, 1000)           4044000   \n",
      "                                                                 \n",
      " lstm_1 (LSTM)               (None, 1000)              8004000   \n",
      "                                                                 \n",
      " dense (Dense)               (None, 1000)              1001000   \n",
      "                                                                 \n",
      " dense_1 (Dense)             (None, 1484)              1485484   \n",
      "                                                                 \n",
      "=================================================================\n",
      "Total params: 14,549,324\n",
      "Trainable params: 14,549,324\n",
      "Non-trainable params: 0\n",
      "_________________________________________________________________\n"
     ]
    }
   ],
   "source": [
    "model.summary()"
   ]
  },
  {
   "cell_type": "markdown",
   "metadata": {
    "id": "aONzDRQXbD0s"
   },
   "source": [
    "### Plot the model"
   ]
  },
  {
   "cell_type": "code",
   "execution_count": 16,
   "metadata": {
    "colab": {
     "base_uri": "https://localhost:8080/",
     "height": 564
    },
    "id": "0nhI2wTibAwu",
    "outputId": "764000c8-c383-4445-a5b1-e02417a7cfff"
   },
   "outputs": [
    {
     "data": {
      "image/png": "[encoded data removed]",
      "text/plain": [
       "<IPython.core.display.Image object>"
      ]
     },
     "execution_count": 16,
     "metadata": {},
     "output_type": "execute_result"
    }
   ],
   "source": [
    "from tensorflow import keras\n",
    "from keras.utils.vis_utils import plot_model\n",
    "\n",
    "keras.utils.plot_model(model, to_file='plot.png', show_layer_names=True)"
   ]
  },
  {
   "cell_type": "markdown",
   "metadata": {
    "id": "gvhnFJVQbK3j"
   },
   "source": [
    "### Train the model"
   ]
  },
  {
   "cell_type": "code",
   "execution_count": 17,
   "metadata": {
    "colab": {
     "base_uri": "https://localhost:8080/"
    },
    "id": "2GdV2T8vbNug",
    "outputId": "c47e2f83-c9ff-4828-e8fc-ba7282f3f27b"
   },
   "outputs": [
    {
     "name": "stdout",
     "output_type": "stream",
     "text": [
      "Epoch 1/70\n",
      "92/92 [==============================] - ETA: 0s - loss: 6.5470\n",
      "Epoch 1: loss improved from inf to 6.54700, saving model to next_words.h5\n",
      "92/92 [==============================] - 64s 637ms/step - loss: 6.5470\n",
      "Epoch 2/70\n",
      "92/92 [==============================] - ETA: 0s - loss: 6.1198\n",
      "Epoch 2: loss improved from 6.54700 to 6.11977, saving model to next_words.h5\n",
      "92/92 [==============================] - 58s 635ms/step - loss: 6.1198\n",
      "Epoch 3/70\n",
      "92/92 [==============================] - ETA: 0s - loss: 6.0440\n",
      "Epoch 3: loss improved from 6.11977 to 6.04403, saving model to next_words.h5\n",
      "92/92 [==============================] - 62s 671ms/step - loss: 6.0440\n",
      "Epoch 4/70\n",
      "92/92 [==============================] - ETA: 0s - loss: 5.9609\n",
      "Epoch 4: loss improved from 6.04403 to 5.96089, saving model to next_words.h5\n",
      "92/92 [==============================] - 57s 619ms/step - loss: 5.9609\n",
      "Epoch 5/70\n",
      "92/92 [==============================] - ETA: 0s - loss: 5.7275\n",
      "Epoch 5: loss improved from 5.96089 to 5.72753, saving model to next_words.h5\n",
      "92/92 [==============================] - 57s 617ms/step - loss: 5.7275\n",
      "Epoch 6/70\n",
      "92/92 [==============================] - ETA: 0s - loss: 5.3943\n",
      "Epoch 6: loss improved from 5.72753 to 5.39425, saving model to next_words.h5\n",
      "92/92 [==============================] - 56s 607ms/step - loss: 5.3943\n",
      "Epoch 7/70\n",
      "92/92 [==============================] - ETA: 0s - loss: 5.1210\n",
      "Epoch 7: loss improved from 5.39425 to 5.12103, saving model to next_words.h5\n",
      "92/92 [==============================] - 57s 617ms/step - loss: 5.1210\n",
      "Epoch 8/70\n",
      "92/92 [==============================] - ETA: 0s - loss: 4.8549\n",
      "Epoch 8: loss improved from 5.12103 to 4.85494, saving model to next_words.h5\n",
      "92/92 [==============================] - 56s 609ms/step - loss: 4.8549\n",
      "Epoch 9/70\n",
      "92/92 [==============================] - ETA: 0s - loss: 4.6086\n",
      "Epoch 9: loss improved from 4.85494 to 4.60858, saving model to next_words.h5\n",
      "92/92 [==============================] - 58s 630ms/step - loss: 4.6086\n",
      "Epoch 10/70\n",
      "92/92 [==============================] - ETA: 0s - loss: 4.3570\n",
      "Epoch 10: loss improved from 4.60858 to 4.35697, saving model to next_words.h5\n",
      "92/92 [==============================] - 57s 620ms/step - loss: 4.3570\n",
      "Epoch 11/70\n",
      "92/92 [==============================] - ETA: 0s - loss: 4.1081\n",
      "Epoch 11: loss improved from 4.35697 to 4.10811, saving model to next_words.h5\n",
      "92/92 [==============================] - 56s 608ms/step - loss: 4.1081\n",
      "Epoch 12/70\n",
      "92/92 [==============================] - ETA: 0s - loss: 3.8430\n",
      "Epoch 12: loss improved from 4.10811 to 3.84299, saving model to next_words.h5\n",
      "92/92 [==============================] - 55s 599ms/step - loss: 3.8430\n",
      "Epoch 13/70\n",
      "92/92 [==============================] - ETA: 0s - loss: 3.6041\n",
      "Epoch 13: loss improved from 3.84299 to 3.60412, saving model to next_words.h5\n",
      "92/92 [==============================] - 60s 654ms/step - loss: 3.6041\n",
      "Epoch 14/70\n",
      "92/92 [==============================] - ETA: 0s - loss: 3.4355\n",
      "Epoch 14: loss improved from 3.60412 to 3.43555, saving model to next_words.h5\n",
      "92/92 [==============================] - 61s 660ms/step - loss: 3.4355\n",
      "Epoch 15/70\n",
      "92/92 [==============================] - ETA: 0s - loss: 3.2029\n",
      "Epoch 15: loss improved from 3.43555 to 3.20290, saving model to next_words.h5\n",
      "92/92 [==============================] - 56s 606ms/step - loss: 3.2029\n",
      "Epoch 16/70\n",
      "92/92 [==============================] - ETA: 0s - loss: 2.9603\n",
      "Epoch 16: loss improved from 3.20290 to 2.96034, saving model to next_words.h5\n",
      "92/92 [==============================] - 57s 617ms/step - loss: 2.9603\n",
      "Epoch 17/70\n",
      "92/92 [==============================] - ETA: 0s - loss: 2.7710\n",
      "Epoch 17: loss improved from 2.96034 to 2.77101, saving model to next_words.h5\n",
      "92/92 [==============================] - 57s 619ms/step - loss: 2.7710\n",
      "Epoch 18/70\n",
      "92/92 [==============================] - ETA: 0s - loss: 2.6093\n",
      "Epoch 18: loss improved from 2.77101 to 2.60933, saving model to next_words.h5\n",
      "92/92 [==============================] - 55s 600ms/step - loss: 2.6093\n",
      "Epoch 19/70\n",
      "92/92 [==============================] - ETA: 0s - loss: 2.4187\n",
      "Epoch 19: loss improved from 2.60933 to 2.41874, saving model to next_words.h5\n",
      "92/92 [==============================] - 55s 598ms/step - loss: 2.4187\n",
      "Epoch 20/70\n",
      "92/92 [==============================] - ETA: 0s - loss: 2.2752\n",
      "Epoch 20: loss improved from 2.41874 to 2.27525, saving model to next_words.h5\n",
      "92/92 [==============================] - 56s 606ms/step - loss: 2.2752\n",
      "Epoch 21/70\n",
      "92/92 [==============================] - ETA: 0s - loss: 2.0369\n",
      "Epoch 21: loss improved from 2.27525 to 2.03685, saving model to next_words.h5\n",
      "92/92 [==============================] - 55s 597ms/step - loss: 2.0369\n",
      "Epoch 22/70\n",
      "92/92 [==============================] - ETA: 0s - loss: 1.8934\n",
      "Epoch 22: loss improved from 2.03685 to 1.89345, saving model to next_words.h5\n",
      "92/92 [==============================] - 53s 579ms/step - loss: 1.8934\n",
      "Epoch 23/70\n",
      "92/92 [==============================] - ETA: 0s - loss: 1.7643\n",
      "Epoch 23: loss improved from 1.89345 to 1.76432, saving model to next_words.h5\n",
      "92/92 [==============================] - 55s 595ms/step - loss: 1.7643\n",
      "Epoch 24/70\n",
      "92/92 [==============================] - ETA: 0s - loss: 1.6722\n",
      "Epoch 24: loss improved from 1.76432 to 1.67225, saving model to next_words.h5\n",
      "92/92 [==============================] - 60s 657ms/step - loss: 1.6722\n",
      "Epoch 25/70\n",
      "92/92 [==============================] - ETA: 0s - loss: 1.5020\n",
      "Epoch 25: loss improved from 1.67225 to 1.50204, saving model to next_words.h5\n",
      "92/92 [==============================] - 54s 582ms/step - loss: 1.5020\n",
      "Epoch 26/70\n",
      "92/92 [==============================] - ETA: 0s - loss: 1.4250\n",
      "Epoch 26: loss improved from 1.50204 to 1.42502, saving model to next_words.h5\n",
      "92/92 [==============================] - 55s 595ms/step - loss: 1.4250\n",
      "Epoch 27/70\n",
      "92/92 [==============================] - ETA: 0s - loss: 1.2575\n",
      "Epoch 27: loss improved from 1.42502 to 1.25745, saving model to next_words.h5\n",
      "92/92 [==============================] - 55s 599ms/step - loss: 1.2575\n",
      "Epoch 28/70\n",
      "92/92 [==============================] - ETA: 0s - loss: 1.2225\n",
      "Epoch 28: loss improved from 1.25745 to 1.22254, saving model to next_words.h5\n",
      "92/92 [==============================] - 54s 590ms/step - loss: 1.2225\n",
      "Epoch 29/70\n",
      "92/92 [==============================] - ETA: 0s - loss: 1.1592\n",
      "Epoch 29: loss improved from 1.22254 to 1.15920, saving model to next_words.h5\n",
      "92/92 [==============================] - 53s 576ms/step - loss: 1.1592\n",
      "Epoch 30/70\n",
      "92/92 [==============================] - ETA: 0s - loss: 1.1004\n",
      "Epoch 30: loss improved from 1.15920 to 1.10044, saving model to next_words.h5\n",
      "92/92 [==============================] - 57s 616ms/step - loss: 1.1004\n",
      "Epoch 31/70\n",
      "92/92 [==============================] - ETA: 0s - loss: 0.9047\n",
      "Epoch 31: loss improved from 1.10044 to 0.90469, saving model to next_words.h5\n",
      "92/92 [==============================] - 57s 620ms/step - loss: 0.9047\n",
      "Epoch 32/70\n",
      "92/92 [==============================] - ETA: 0s - loss: 0.9954\n",
      "Epoch 32: loss did not improve from 0.90469\n",
      "92/92 [==============================] - 55s 600ms/step - loss: 0.9954\n",
      "Epoch 33/70\n",
      "92/92 [==============================] - ETA: 0s - loss: 0.7998\n",
      "Epoch 33: loss improved from 0.90469 to 0.79982, saving model to next_words.h5\n",
      "92/92 [==============================] - 53s 581ms/step - loss: 0.7998\n",
      "Epoch 34/70\n",
      "92/92 [==============================] - ETA: 0s - loss: 0.7083\n",
      "Epoch 34: loss improved from 0.79982 to 0.70826, saving model to next_words.h5\n",
      "92/92 [==============================] - 56s 610ms/step - loss: 0.7083\n",
      "Epoch 35/70\n",
      "92/92 [==============================] - ETA: 0s - loss: 0.6262\n",
      "Epoch 35: loss improved from 0.70826 to 0.62620, saving model to next_words.h5\n",
      "92/92 [==============================] - 60s 648ms/step - loss: 0.6262\n",
      "Epoch 36/70\n",
      "92/92 [==============================] - ETA: 0s - loss: 0.6104\n",
      "Epoch 36: loss improved from 0.62620 to 0.61045, saving model to next_words.h5\n",
      "92/92 [==============================] - 54s 590ms/step - loss: 0.6104\n",
      "Epoch 37/70\n",
      "92/92 [==============================] - ETA: 0s - loss: 0.5719\n",
      "Epoch 37: loss improved from 0.61045 to 0.57195, saving model to next_words.h5\n",
      "92/92 [==============================] - 53s 575ms/step - loss: 0.5719\n",
      "Epoch 38/70\n",
      "92/92 [==============================] - ETA: 0s - loss: 0.6335\n",
      "Epoch 38: loss did not improve from 0.57195\n",
      "92/92 [==============================] - 54s 591ms/step - loss: 0.6335\n",
      "Epoch 39/70\n",
      "92/92 [==============================] - ETA: 0s - loss: 0.5816\n",
      "Epoch 39: loss did not improve from 0.57195\n",
      "92/92 [==============================] - 53s 579ms/step - loss: 0.5816\n",
      "Epoch 40/70\n",
      "92/92 [==============================] - ETA: 0s - loss: 0.6092\n",
      "Epoch 40: loss did not improve from 0.57195\n",
      "92/92 [==============================] - 52s 562ms/step - loss: 0.6092\n",
      "Epoch 41/70\n",
      "92/92 [==============================] - ETA: 0s - loss: 0.5214\n",
      "Epoch 41: loss improved from 0.57195 to 0.52141, saving model to next_words.h5\n",
      "92/92 [==============================] - 54s 583ms/step - loss: 0.5214\n",
      "Epoch 42/70\n",
      "92/92 [==============================] - ETA: 0s - loss: 0.7513\n",
      "Epoch 42: loss did not improve from 0.52141\n",
      "92/92 [==============================] - 53s 578ms/step - loss: 0.7513\n",
      "Epoch 43/70\n",
      "92/92 [==============================] - ETA: 0s - loss: 0.4724\n",
      "Epoch 43: loss improved from 0.52141 to 0.47238, saving model to next_words.h5\n",
      "92/92 [==============================] - 55s 590ms/step - loss: 0.4724\n",
      "Epoch 44/70\n",
      "92/92 [==============================] - ETA: 0s - loss: 0.3828\n",
      "Epoch 44: loss improved from 0.47238 to 0.38284, saving model to next_words.h5\n",
      "92/92 [==============================] - 55s 601ms/step - loss: 0.3828\n",
      "Epoch 45/70\n",
      "92/92 [==============================] - ETA: 0s - loss: 0.3448\n",
      "Epoch 45: loss improved from 0.38284 to 0.34483, saving model to next_words.h5\n",
      "92/92 [==============================] - 55s 601ms/step - loss: 0.3448\n",
      "Epoch 46/70\n",
      "92/92 [==============================] - ETA: 0s - loss: 0.3397\n",
      "Epoch 46: loss improved from 0.34483 to 0.33974, saving model to next_words.h5\n",
      "92/92 [==============================] - 54s 585ms/step - loss: 0.3397\n",
      "Epoch 47/70\n",
      "92/92 [==============================] - ETA: 0s - loss: 0.3282\n",
      "Epoch 47: loss improved from 0.33974 to 0.32822, saving model to next_words.h5\n",
      "92/92 [==============================] - 56s 612ms/step - loss: 0.3282\n",
      "Epoch 48/70\n",
      "92/92 [==============================] - ETA: 0s - loss: 0.3036\n",
      "Epoch 48: loss improved from 0.32822 to 0.30361, saving model to next_words.h5\n",
      "92/92 [==============================] - 55s 604ms/step - loss: 0.3036\n",
      "Epoch 49/70\n",
      "92/92 [==============================] - ETA: 0s - loss: 0.3012\n",
      "Epoch 49: loss improved from 0.30361 to 0.30122, saving model to next_words.h5\n",
      "92/92 [==============================] - 53s 575ms/step - loss: 0.3012\n",
      "Epoch 50/70\n",
      "92/92 [==============================] - ETA: 0s - loss: 0.2946\n",
      "Epoch 50: loss improved from 0.30122 to 0.29457, saving model to next_words.h5\n",
      "92/92 [==============================] - 53s 576ms/step - loss: 0.2946\n",
      "Epoch 51/70\n",
      "92/92 [==============================] - ETA: 0s - loss: 0.2874\n",
      "Epoch 51: loss improved from 0.29457 to 0.28741, saving model to next_words.h5\n",
      "92/92 [==============================] - 55s 597ms/step - loss: 0.2874\n",
      "Epoch 52/70\n",
      "92/92 [==============================] - ETA: 0s - loss: 0.3577\n",
      "Epoch 52: loss did not improve from 0.28741\n",
      "92/92 [==============================] - 54s 590ms/step - loss: 0.3577\n",
      "Epoch 53/70\n",
      "92/92 [==============================] - ETA: 0s - loss: 0.3504\n",
      "Epoch 53: loss did not improve from 0.28741\n",
      "92/92 [==============================] - 53s 576ms/step - loss: 0.3504\n",
      "Epoch 54/70\n",
      "92/92 [==============================] - ETA: 0s - loss: 0.5278\n",
      "Epoch 54: loss did not improve from 0.28741\n",
      "92/92 [==============================] - 54s 588ms/step - loss: 0.5278\n",
      "Epoch 55/70\n",
      "92/92 [==============================] - ETA: 0s - loss: 0.4154\n",
      "Epoch 55: loss did not improve from 0.28741\n",
      "92/92 [==============================] - 55s 594ms/step - loss: 0.4154\n",
      "Epoch 56/70\n",
      "92/92 [==============================] - ETA: 0s - loss: 0.4734\n",
      "Epoch 56: loss did not improve from 0.28741\n",
      "92/92 [==============================] - 53s 575ms/step - loss: 0.4734\n",
      "Epoch 57/70\n",
      "92/92 [==============================] - ETA: 0s - loss: 0.3988\n",
      "Epoch 57: loss did not improve from 0.28741\n",
      "92/92 [==============================] - 54s 592ms/step - loss: 0.3988\n",
      "Epoch 58/70\n",
      "92/92 [==============================] - ETA: 0s - loss: 0.3471\n",
      "Epoch 58: loss did not improve from 0.28741\n",
      "92/92 [==============================] - 53s 580ms/step - loss: 0.3471\n",
      "Epoch 59/70\n",
      "92/92 [==============================] - ETA: 0s - loss: 0.3242\n",
      "Epoch 59: loss did not improve from 0.28741\n",
      "92/92 [==============================] - 54s 583ms/step - loss: 0.3242\n",
      "Epoch 60/70\n",
      "92/92 [==============================] - ETA: 0s - loss: 0.2883\n",
      "Epoch 60: loss did not improve from 0.28741\n",
      "92/92 [==============================] - 55s 598ms/step - loss: 0.2883\n",
      "Epoch 61/70\n",
      "92/92 [==============================] - ETA: 0s - loss: 0.2654\n",
      "Epoch 61: loss improved from 0.28741 to 0.26537, saving model to next_words.h5\n",
      "92/92 [==============================] - 54s 590ms/step - loss: 0.2654\n",
      "Epoch 62/70\n",
      "92/92 [==============================] - ETA: 0s - loss: 0.2599\n",
      "Epoch 62: loss improved from 0.26537 to 0.25991, saving model to next_words.h5\n",
      "92/92 [==============================] - 55s 594ms/step - loss: 0.2599\n",
      "Epoch 63/70\n",
      "92/92 [==============================] - ETA: 0s - loss: 0.2546\n",
      "Epoch 63: loss improved from 0.25991 to 0.25461, saving model to next_words.h5\n",
      "92/92 [==============================] - 60s 649ms/step - loss: 0.2546\n",
      "Epoch 64/70\n",
      "92/92 [==============================] - ETA: 0s - loss: 0.2540\n",
      "Epoch 64: loss improved from 0.25461 to 0.25397, saving model to next_words.h5\n",
      "92/92 [==============================] - 56s 610ms/step - loss: 0.2540\n",
      "Epoch 65/70\n",
      "92/92 [==============================] - ETA: 0s - loss: 0.2556\n",
      "Epoch 65: loss did not improve from 0.25397\n",
      "92/92 [==============================] - 55s 597ms/step - loss: 0.2556\n",
      "Epoch 66/70\n",
      "92/92 [==============================] - ETA: 0s - loss: 0.2409\n",
      "Epoch 66: loss improved from 0.25397 to 0.24094, saving model to next_words.h5\n",
      "92/92 [==============================] - 53s 573ms/step - loss: 0.2409\n",
      "Epoch 67/70\n",
      "92/92 [==============================] - ETA: 0s - loss: 0.2683\n",
      "Epoch 67: loss did not improve from 0.24094\n",
      "92/92 [==============================] - 54s 584ms/step - loss: 0.2683\n",
      "Epoch 68/70\n",
      "92/92 [==============================] - ETA: 0s - loss: 0.2380\n",
      "Epoch 68: loss improved from 0.24094 to 0.23797, saving model to next_words.h5\n",
      "92/92 [==============================] - 52s 566ms/step - loss: 0.2380\n",
      "Epoch 69/70\n",
      "92/92 [==============================] - ETA: 0s - loss: 0.2408\n",
      "Epoch 69: loss did not improve from 0.23797\n",
      "92/92 [==============================] - 54s 584ms/step - loss: 0.2408\n",
      "Epoch 70/70\n",
      "92/92 [==============================] - ETA: 0s - loss: 0.2350\n",
      "Epoch 70: loss improved from 0.23797 to 0.23498, saving model to next_words.h5\n",
      "92/92 [==============================] - 57s 615ms/step - loss: 0.2350\n"
     ]
    },
    {
     "data": {
      "text/plain": [
       "<keras.callbacks.History at 0x7fa8783af460>"
      ]
     },
     "execution_count": 17,
     "metadata": {},
     "output_type": "execute_result"
    }
   ],
   "source": [
    "from tensorflow.keras.callbacks import ModelCheckpoint\n",
    "\n",
    "checkpoint = ModelCheckpoint(\"next_words.h5\", monitor='loss', verbose=1, save_best_only=True)\n",
    "model.compile(loss=\"categorical_crossentropy\", optimizer=Adam(learning_rate=0.001))\n",
    "model.fit(X, y, epochs=70, batch_size=64, callbacks=[checkpoint])"
   ]
  },
  {
   "cell_type": "markdown",
   "metadata": {
    "id": "Yz4ya26vFxeq"
   },
   "source": [
    "### Predict"
   ]
  },
  {
   "cell_type": "code",
   "execution_count": null,
   "metadata": {},
   "outputs": [],
   "source": [
    "from tensorflow.keras.models import load_model\n",
    "import numpy as np\n",
    "import pickle\n",
    "\n",
    "# Load the model and tokenizer\n",
    "model = load_model('next_words.h5')\n",
    "tokenizer = pickle.load(open('token.pkl', 'rb'))\n",
    "\n",
    "def Predict_Next_Words(model, tokenizer, text):\n",
    "\n",
    "  sequence = tokenizer.texts_to_sequences([text])\n",
    "  sequence = np.array(sequence)\n",
    "  preds = np.argmax(model.predict(sequence))\n",
    "  predicted_word = \"\"\n",
    "  \n",
    "  for key, value in tokenizer.word_index.items():\n",
    "      if value == preds:\n",
    "          predicted_word = key\n",
    "          break\n",
    "  \n",
    "  print(predicted_word)\n",
    "  return predicted_word"
   ]
  },
  {
   "cell_type": "code",
   "execution_count": null,
   "metadata": {
    "colab": {
     "base_uri": "https://localhost:8080/"
    },
    "id": "kNmvrKurH23E",
    "outputId": "fdd5ae17-7fcf-4d41-9f48-a9a423504ccd"
   },
   "outputs": [],
   "source": [
    "# Load the model and tokenizer\n",
    "model = load_model('next_words.h5')\n",
    "tokenizer = pickle.load(open('token.pkl', 'rb'))\n",
    "\n",
    "results_dir = 'dsc650/assignments/assignment11/results'\n",
    "\n",
    "for _ in range(20):\n",
    "    text = input(\"Enter your line: \")\n",
    "  \n",
    "    try:\n",
    "        text = text.split(\" \")\n",
    "        text = text[-3:]\n",
    "        print(text)\n",
    "      \n",
    "        predicted_word = Predict_Next_Words(model, tokenizer, text)\n",
    "        \n",
    "        # Append the predicted word to the results directory\n",
    "        with open(os.path.join(results_dir, 'predictions.txt'), 'a') as f:\n",
    "            f.write(predicted_word + '\\n')\n",
    "\n",
    "    except Exception as e:\n",
    "        print(\"Error occurred:\", e)\n",
    "        continue"
   ]
  },
  {
   "cell_type": "code",
   "execution_count": null,
   "metadata": {},
   "outputs": [],
   "source": []
  }
 ],
 "metadata": {
  "accelerator": "TPU",
  "colab": {
   "authorship_tag": "ABX9TyNmGnvHN2NtnuocFOnSABWj",
   "gpuType": "T4",
   "include_colab_link": true,
   "provenance": []
  },
  "kernelspec": {
   "display_name": "Python 3 (ipykernel)",
   "language": "python",
   "name": "python3"
  },
  "language_info": {
   "codemirror_mode": {
    "name": "ipython",
    "version": 3
   },
   "file_extension": ".py",
   "mimetype": "text/x-python",
   "name": "python",
   "nbconvert_exporter": "python",
   "pygments_lexer": "ipython3",
   "version": "3.9.13"
  }
 },
 "nbformat": 4,
 "nbformat_minor": 1
}
